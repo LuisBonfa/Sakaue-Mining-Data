{
 "cells": [
  {
   "cell_type": "code",
   "execution_count": 327,
   "metadata": {},
   "outputs": [],
   "source": [
    "import pandas as pd\n",
    "import json\n",
    "from pandas import Series, DataFrame, ExcelWriter\n",
    "sigaFile = \"allStudents.xlsx\";\n",
    "minerFile = \"linkedinMinera.csv\"\n",
    "df = pd.DataFrame(pd.read_excel(\"datasets/\"+sigaFile))\n",
    "df2 = pd.DataFrame(pd.read_csv(\"datasets/\"+minerFile, delimiter=\";\", encoding = \"ISO-8859-1\"))\n",
    "\n"
   ]
  },
  {
   "cell_type": "code",
   "execution_count": 328,
   "metadata": {},
   "outputs": [],
   "source": [
    "valuesOnGoing = {\n",
    "    'situacao':[],\n",
    "    'curso':[],\n",
    "    'turno':[],\n",
    "    'ra':[],\n",
    "    'nome_aluno':[],\n",
    "    'cargo':[],\n",
    "    'empresa':[],\n",
    "    'instituicao':[]\n",
    "}\n",
    "\n",
    "valuesFinished = {\n",
    "    'situacao':[],\n",
    "    'curso':[],\n",
    "    'turno':[],\n",
    "    'ra':[],\n",
    "    'nome_aluno':[],\n",
    "    'cargo':[],\n",
    "    'empresa':[],\n",
    "    'instituicao':[]\n",
    "}\n",
    "\n",
    "for nameMiner in df2['NOME']:\n",
    "    for nameSiga in df['Nome Aluno']:\n",
    "        if(nameSiga.upper() == nameMiner.upper()):\n",
    "            \n",
    "            auxValuesMiner = df2.loc[df2['NOME'] == nameMiner].iloc[0]\n",
    "                \n",
    "            if(len(df.loc[(df['Nome Aluno'] == nameSiga)&(df['Situacao'] == 'Graduado')]) > 0 or len(df.loc[(df['Nome Aluno'] == nameSiga) & (df['Situacao'] == 'Concluído')]) > 0):\n",
    "                auxValuesSiga = df.loc[(df['Nome Aluno'] == nameSiga)&(df['Situacao'] == 'Graduado')].iloc[0] if len(df.loc[(df['Nome Aluno'] == nameSiga)&(df['Situacao'] == 'Graduado')]) > 0 else df.loc[(df['Nome Aluno'] == nameSiga)&(df['Situacao'] == 'Concluído')].iloc[0]\n",
    "                valuesFinished['situacao'].append(str(auxValuesSiga['Situacao']))\n",
    "                valuesFinished['curso'].append(auxValuesSiga['Curso'])\n",
    "                valuesFinished['turno'].append(auxValuesSiga['Turno'])\n",
    "                valuesFinished['ra'].append(auxValuesSiga['RA'])\n",
    "                valuesFinished['nome_aluno'].append(auxValuesSiga['Nome Aluno'])\n",
    "                valuesFinished['cargo'].append(auxValuesMiner['CARGO'])\n",
    "                valuesFinished['empresa'].append(auxValuesMiner['EMPRESA'])\n",
    "                valuesFinished['instituicao'].append(auxValuesMiner['INSTITUICAO DE ENSINO'])\n",
    "                    \n",
    "            elif(len(df.loc[(df['Nome Aluno'] == nameSiga)&(df['Situacao'] == 'Cursando')]) > 0):\n",
    "                auxValuesSiga = df.loc[(df['Nome Aluno'] == nameSiga)&(df['Situacao'] == 'Cursando')].iloc[0] \n",
    "                valuesOnGoing['situacao'].append(str(auxValuesSiga['Situacao']))\n",
    "                valuesOnGoing['curso'].append(auxValuesSiga['Curso'])\n",
    "                valuesOnGoing['turno'].append(auxValuesSiga['Turno'])\n",
    "                valuesOnGoing['ra'].append(auxValuesSiga['RA'])\n",
    "                valuesOnGoing['nome_aluno'].append(auxValuesSiga['Nome Aluno'])\n",
    "                valuesOnGoing['cargo'].append(auxValuesMiner['CARGO'])\n",
    "                valuesOnGoing['empresa'].append(auxValuesMiner['EMPRESA'])\n",
    "                valuesOnGoing['instituicao'].append(auxValuesMiner['INSTITUICAO DE ENSINO'])\n",
    "    "
   ]
  },
  {
   "cell_type": "code",
   "execution_count": 329,
   "metadata": {},
   "outputs": [],
   "source": [
    "newDataOnGoing = pd.DataFrame({\n",
    "    'SITUAÇÃO': valuesOnGoing['situacao'],\n",
    "    'CURSO': valuesOnGoing['curso'],\n",
    "    'TURNO': valuesOnGoing['turno'],\n",
    "    'RA': valuesOnGoing['ra'],\n",
    "    'NOME ALUNO': valuesOnGoing['nome_aluno'],\n",
    "    'CARGO': valuesOnGoing['cargo'],\n",
    "    'EMPRESA': valuesOnGoing['empresa'],\n",
    "    'INSTITUICAO DE ENSINO': valuesOnGoing['instituicao'],\n",
    "}, columns=['SITUAÇÃO','CURSO','TURNO','RA','NOME ALUNO','CARGO','EMPRESA','INSTITUICAO DE ENSINO'])\n",
    " \n",
    "\n",
    "newDataFinished = pd.DataFrame({\n",
    "    'SITUAÇÃO': valuesFinished['situacao'],\n",
    "    'CURSO': valuesFinished['curso'],\n",
    "    'TURNO': valuesFinished['turno'],\n",
    "    'RA': valuesFinished['ra'],\n",
    "    'NOME ALUNO': valuesFinished['nome_aluno'],\n",
    "    'CARGO': valuesFinished['cargo'],\n",
    "    'EMPRESA': valuesFinished['empresa'],\n",
    "    'INSTITUICAO DE ENSINO': valuesFinished['instituicao'],\n",
    "}, columns=['SITUAÇÃO','CURSO','TURNO','RA','NOME ALUNO','CARGO','EMPRESA','INSTITUICAO DE ENSINO'])\n"
   ]
  },
  {
   "cell_type": "code",
   "execution_count": 330,
   "metadata": {},
   "outputs": [],
   "source": [
    "writer = pd.ExcelWriter('sakaueTreatedOnGoing.xlsx', engine='xlsxwriter')\n",
    "newDataOnGoing.to_excel(writer, sheet_name='Sheet1')\n",
    "writer.save()\n",
    "\n",
    "writer = pd.ExcelWriter('sakaueTreatedFinished.xlsx', engine='xlsxwriter')\n",
    "newDataFinished.to_excel(writer, sheet_name='Sheet1')\n",
    "writer.save()\n"
   ]
  },
  {
   "cell_type": "code",
   "execution_count": null,
   "metadata": {},
   "outputs": [],
   "source": []
  }
 ],
 "metadata": {
  "kernelspec": {
   "display_name": "Python 3",
   "language": "python",
   "name": "python3"
  },
  "language_info": {
   "codemirror_mode": {
    "name": "ipython",
    "version": 3
   },
   "file_extension": ".py",
   "mimetype": "text/x-python",
   "name": "python",
   "nbconvert_exporter": "python",
   "pygments_lexer": "ipython3",
   "version": "3.7.3"
  }
 },
 "nbformat": 4,
 "nbformat_minor": 2
}
